{
 "cells": [
  {
   "cell_type": "markdown",
   "metadata": {},
   "source": [
    "# Explore NC water withdrawal, discharge, transfer data"
   ]
  },
  {
   "cell_type": "code",
   "execution_count": null,
   "metadata": {},
   "outputs": [],
   "source": [
    "#Import packages\n",
    "import pandas as pd\n",
    "import matplotlib.pyplot as plt"
   ]
  },
  {
   "cell_type": "code",
   "execution_count": null,
   "metadata": {},
   "outputs": [],
   "source": [
    "#Files\n",
    "volumeFN = 'NCDEQ/MonthlyVolumeData.csv'\n",
    "withdrawalFN = 'NCDEQ/WithdrawalSourceData.csv'\n",
    "dischargeFN = 'NCDEQ/DischargeMethds.csv'\n",
    "transferFN = 'NCDEQ/TransferInfo.csv'"
   ]
  },
  {
   "cell_type": "markdown",
   "metadata": {},
   "source": [
    "## Volume"
   ]
  },
  {
   "cell_type": "code",
   "execution_count": null,
   "metadata": {},
   "outputs": [],
   "source": [
    "#Read in the data\n",
    "dfVol = pd.read_csv(volumeFN,na_values='NaN')\n",
    "dfVol.columns"
   ]
  },
  {
   "cell_type": "code",
   "execution_count": null,
   "metadata": {},
   "outputs": [],
   "source": [
    "#Create a list of sequential months (to sort plots)\n",
    "monthList = dfVol.Month[0:12].values.tolist()"
   ]
  },
  {
   "cell_type": "code",
   "execution_count": null,
   "metadata": {},
   "outputs": [],
   "source": [
    "#Create a sorted list of years\n",
    "yearList = dfVol['Year'].unique().tolist()\n",
    "yearList.sort()\n",
    "yearList"
   ]
  },
  {
   "cell_type": "markdown",
   "metadata": {},
   "source": [
    "#### Withdrawal analysis"
   ]
  },
  {
   "cell_type": "code",
   "execution_count": null,
   "metadata": {},
   "outputs": [],
   "source": [
    "#Subset columns and remove records with zero days\n",
    "cols = list(range(8)) + list(range(8,12))\n",
    "dfWD = dfVol.iloc[:,cols][dfVol['# of DaysUsed'] > 0]\n",
    "dfWD = dfWD[dfWD['# of DaysUsed'] > 0]"
   ]
  },
  {
   "cell_type": "code",
   "execution_count": null,
   "metadata": {},
   "outputs": [],
   "source": [
    "grpVar = 'Month'\n",
    "showVar = 'Average DailyWithdrawal (MGD)'\n",
    "byMonth = dfWD.groupby(grpVar)[showVar].mean()\n",
    "byMonth[monthList].plot(kind='bar');"
   ]
  },
  {
   "cell_type": "code",
   "execution_count": null,
   "metadata": {},
   "outputs": [],
   "source": [
    "showVar = 'Average DailyWithdrawal (MGD)'\n",
    "grpVar = 'Subbasin'\n",
    "fig = plt.figure(figsize=(10,5))\n",
    "dfWD.groupby(grpVar)[showVar].mean().plot(kind='bar',\n",
    "                                          logy=True,\n",
    "                                          title=\"{} by {}\".format(showVar,grpVar));"
   ]
  },
  {
   "cell_type": "code",
   "execution_count": null,
   "metadata": {},
   "outputs": [],
   "source": []
  }
 ],
 "metadata": {
  "kernelspec": {
   "display_name": "Python 3",
   "language": "python",
   "name": "python3"
  },
  "language_info": {
   "codemirror_mode": {
    "name": "ipython",
    "version": 3
   },
   "file_extension": ".py",
   "mimetype": "text/x-python",
   "name": "python",
   "nbconvert_exporter": "python",
   "pygments_lexer": "ipython3",
   "version": "3.6.5"
  }
 },
 "nbformat": 4,
 "nbformat_minor": 2
}
